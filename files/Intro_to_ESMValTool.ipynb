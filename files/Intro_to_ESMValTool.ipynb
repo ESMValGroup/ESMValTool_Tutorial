{
 "cells": [
  {
   "cell_type": "markdown",
   "metadata": {},
   "source": [
    "<img width=200 src=\"https://docs.esmvaltool.org/en/v2.5.0/_static/ESMValTool-logo-2.png\"> <img width=200 src=\"https://jupyter.org/assets/homepage/hublogo.svg\">  <img width=200 src=\"https://www.smhi.se/polopoly_fs/1.135796.1527766089!/image/LoggaEUCP.png_gen/derivatives/Original_366px/image/LoggaEUCP.png\"> <img width=200 src=\"https://www.dkrz.de/@@site-logo/dkrz.svg\"> <img width=200 src=\"https://upload.wikimedia.org/wikipedia/commons/8/85/SMHI_Logo.svg\"> <img width=200 src=\"https://www.dtls.nl/wp-content/uploads/2015/03/NleSc.png\">"
   ]
  },
  {
   "cell_type": "markdown",
   "metadata": {},
   "source": [
    "# Introduction to ESMValTool\n",
    "\n",
    "[ESMValTool](https://github.com/ESMValGroup/ESMValTool) is a library of climate data analysis workflows (\"recipes\") and [ESMValCore](https://github.com/ESMValGroup/ESMValCore) is the tool that can run those recipes. With ESMValTool, it is easy to reproduce already published analyses as well as develop new ones. A useful feature is that you can directly access all the output (data, images, etc) and further process them in the notebook. ESMValTool has specifically been designed to analyse data produced as part of the [Climate Model Intercomparison Project](https://www.wcrp-climate.org/wgcm-cmip/wgcm-cmip6), though it also [supports many observational and reanalysis datasets](https://docs.esmvaltool.org/en/latest/input.html#supported-datasets-for-which-a-cmorizer-script-is-available). It is used extensively to (re)produce the analyses in the [IPCC Assessment Reports](https://www.ipcc.ch/assessment-report/ar6/)."
   ]
  },
  {
   "cell_type": "code",
   "execution_count": null,
   "metadata": {},
   "outputs": [],
   "source": [
    "# Import the tool\n",
    "import esmvalcore.experimental as esmvaltool\n",
    "\n",
    "# Import tools for plotting\n",
    "import matplotlib.pyplot as plt\n",
    "import iris.quickplot"
   ]
  },
  {
   "cell_type": "markdown",
   "metadata": {},
   "source": [
    "## Working with ESMValTool recipes"
   ]
  },
  {
   "cell_type": "markdown",
   "metadata": {},
   "source": [
    "To see a list of [all the available ESMValTool recipes](https://docs.esmvaltool.org/en/latest/recipes/index.html) (only the first 10 are shown here):"
   ]
  },
  {
   "cell_type": "code",
   "execution_count": null,
   "metadata": {},
   "outputs": [],
   "source": [
    "all_recipes = esmvaltool.get_all_recipes()\n",
    "all_recipes[:10]"
   ]
  },
  {
   "cell_type": "markdown",
   "metadata": {},
   "source": [
    "In this notebook, we'll just run the following recipe. Documentation for this recipe is available [here](https://docs.esmvaltool.org/en/latest/recipes/recipe_examples.html)."
   ]
  },
  {
   "cell_type": "code",
   "execution_count": null,
   "metadata": {
    "scrolled": true
   },
   "outputs": [],
   "source": [
    "example_recipe = esmvaltool.get_recipe(\"examples/recipe_python.yml\")\n",
    "example_recipe"
   ]
  },
  {
   "cell_type": "markdown",
   "metadata": {},
   "source": [
    "The recipe contains a [specification](https://docs.esmvaltool.org/projects/esmvalcore/en/latest/recipe/overview.html) that describes the analysis to run. It is written in YAML format. The most important elements are:\n",
    "- which variables to use\n",
    "- from which datasets\n",
    "- how to preprocess (e.g. regrid, compute statistics, etc) those\n",
    "- and finally, which analysis scripts to run\n",
    "\n",
    "This recipe looks like this:"
   ]
  },
  {
   "cell_type": "code",
   "execution_count": null,
   "metadata": {
    "scrolled": true
   },
   "outputs": [],
   "source": [
    "print(example_recipe.path.read_text())"
   ]
  },
  {
   "cell_type": "code",
   "execution_count": null,
   "metadata": {},
   "outputs": [],
   "source": [
    "example_recipe.name"
   ]
  },
  {
   "cell_type": "markdown",
   "metadata": {},
   "source": [
    "## Configuring the tool\n",
    "\n",
    "The [user configuration file](https://docs.esmvaltool.org/projects/esmvalcore/en/latest/quickstart/configure.html) is where you configure the tool. For example, the `rootpath` setting tells the tool where your data lives, if you have any.  Typically this file is stored in `~/.esmvaltool/config-user.yml`. "
   ]
  },
  {
   "cell_type": "code",
   "execution_count": null,
   "metadata": {},
   "outputs": [],
   "source": [
    "print(esmvaltool.CFG)"
   ]
  },
  {
   "cell_type": "code",
   "execution_count": null,
   "metadata": {},
   "outputs": [],
   "source": [
    "# To make sure that the automatic download works, we create the directory beforehand\n",
    "esmvaltool.CFG['download_dir'].mkdir(exist_ok=True)"
   ]
  },
  {
   "cell_type": "code",
   "execution_count": null,
   "metadata": {},
   "outputs": [],
   "source": [
    "# Change your output directory if required. \n",
    "\n",
    "# esmvaltool.CFG['output_dir'] = 'OUTPUT_DIRECTORY_PATH'\n",
    "esmvaltool.CFG['output_dir']"
   ]
  },
  {
   "cell_type": "code",
   "execution_count": null,
   "metadata": {},
   "outputs": [],
   "source": [
    "# Use the config setting in a different existing file\n",
    "# esmvaltool.CFG.load_from_file(PATH_TO_FILE.yml)"
   ]
  },
  {
   "cell_type": "markdown",
   "metadata": {},
   "source": [
    "A major advantage of working on a machine like GADI, is that a lot of CMIP data is already available, so typically only a few files will need to be downloaded to run a recipe."
   ]
  },
  {
   "cell_type": "markdown",
   "metadata": {},
   "source": [
    "## Running a recipe\n",
    "\n",
    "Let's run our first recipe and inspect the output"
   ]
  },
  {
   "cell_type": "code",
   "execution_count": null,
   "metadata": {
    "scrolled": true
   },
   "outputs": [],
   "source": [
    "output = example_recipe.run()"
   ]
  },
  {
   "cell_type": "markdown",
   "metadata": {},
   "source": [
    "## Plots and further analysis"
   ]
  },
  {
   "cell_type": "code",
   "execution_count": null,
   "metadata": {},
   "outputs": [],
   "source": [
    "import logging\n",
    "logger = logging.getLogger()\n",
    "# logger.setLevel(logging.CRITICAL)\n",
    "\n",
    "output_pp = example_recipe.run('map/script1')\n",
    "output_pp"
   ]
  },
  {
   "cell_type": "code",
   "execution_count": null,
   "metadata": {},
   "outputs": [],
   "source": [
    "for res in output_pp['map/script1']:\n",
    "    print(res.path)"
   ]
  },
  {
   "cell_type": "markdown",
   "metadata": {},
   "source": [
    "The output of the recipe consists of images and data:"
   ]
  },
  {
   "cell_type": "code",
   "execution_count": null,
   "metadata": {},
   "outputs": [],
   "source": [
    "output"
   ]
  },
  {
   "cell_type": "markdown",
   "metadata": {},
   "source": [
    "The output is also available as files:"
   ]
  },
  {
   "cell_type": "code",
   "execution_count": null,
   "metadata": {},
   "outputs": [],
   "source": [
    "for result in output['map/script1']:\n",
    "    print(result.path)"
   ]
  },
  {
   "cell_type": "markdown",
   "metadata": {},
   "source": [
    "Let's have a look at one of the plots:"
   ]
  },
  {
   "cell_type": "code",
   "execution_count": null,
   "metadata": {
    "scrolled": true
   },
   "outputs": [],
   "source": [
    "plots = [f for f in output['timeseries/script1'] if isinstance(f, esmvaltool.recipe_output.ImageFile)]\n",
    "plots[-1]"
   ]
  },
  {
   "cell_type": "markdown",
   "metadata": {},
   "source": [
    "The data used to create the plots is also available:"
   ]
  },
  {
   "cell_type": "code",
   "execution_count": null,
   "metadata": {},
   "outputs": [],
   "source": [
    "data_files = [f for f in output['map/script1'] if isinstance(f, esmvaltool.recipe_output.DataFile)]\n",
    "data_files"
   ]
  },
  {
   "cell_type": "markdown",
   "metadata": {},
   "source": [
    "If the output is a dataset, you can load it with `xarray` or `iris`. In this way, you can immediately continue to work with the (pre-)processed data in your notebook."
   ]
  },
  {
   "cell_type": "code",
   "execution_count": null,
   "metadata": {},
   "outputs": [],
   "source": [
    "xrds = data_files[0].load_xarray()\n",
    "xrds"
   ]
  },
  {
   "cell_type": "code",
   "execution_count": null,
   "metadata": {
    "scrolled": true
   },
   "outputs": [],
   "source": [
    "cube = data_files[0].load_iris()[0]\n",
    "cube"
   ]
  },
  {
   "cell_type": "markdown",
   "metadata": {},
   "source": [
    "This allows us to create our own plot:"
   ]
  },
  {
   "cell_type": "code",
   "execution_count": null,
   "metadata": {},
   "outputs": [],
   "source": [
    "# Create plot\n",
    "iris.quickplot.contourf(cube)\n",
    "\n",
    "# Set the size of the figure\n",
    "plt.gcf().set_size_inches(12, 10)\n",
    "\n",
    "# Draw coastlines\n",
    "plt.gca().coastlines()\n",
    "\n",
    "# Show the resulting figure\n",
    "plt.show()"
   ]
  },
  {
   "cell_type": "markdown",
   "metadata": {},
   "source": [
    "## More information and contact details\n",
    "\n",
    "For more information on all available recipes, visit the [ESMValTool documentation](https://docs.esmvaltool.org/en/latest/recipes/index.html). If this presentation has sparked your interest, you are welcome to join one of our [online monthly meetings](https://docs.esmvaltool.org/en/latest/introduction.html#monthly-meetings) (open to anyone with an interest in ESMValTool), [mailing list](https://docs.esmvaltool.org/en/latest/introduction.html#user-mailing-list), or join us on [GitHub](https://github.com/esmvalgroup/esmvaltool/discussions).\n"
   ]
  }
 ],
 "metadata": {
  "kernelspec": {
   "display_name": "Python 3 (ipykernel)",
   "language": "python",
   "name": "python3"
  },
  "language_info": {
   "codemirror_mode": {
    "name": "ipython",
    "version": 3
   },
   "file_extension": ".py",
   "mimetype": "text/x-python",
   "name": "python",
   "nbconvert_exporter": "python",
   "pygments_lexer": "ipython3",
   "version": "3.11.0"
  }
 },
 "nbformat": 4,
 "nbformat_minor": 4
}

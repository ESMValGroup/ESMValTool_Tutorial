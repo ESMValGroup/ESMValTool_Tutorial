{
 "cells": [
  {
   "cell_type": "markdown",
   "id": "051ab2b9-6557-48d4-ad59-c521d2d14a93",
   "metadata": {},
   "source": [
    "## Lesson: Advanced Jupyter Notebook\n",
    "Supporting notebook for the lesson based on [this blog](https://blog.esciencecenter.nl/easy-ipcc-powered-by-esmvalcore-19a0b6366ea7)."
   ]
  },
  {
   "cell_type": "markdown",
   "id": "1b6a38e6-cc8b-4b5c-848f-81a3025bb6c4",
   "metadata": {},
   "source": [
    "### Dataset\n",
    "- object class used to define and find datasets\n",
    "- see API [reference](https://docs.esmvaltool.org/projects/ESMValCore/en/latest/api/esmvalcore.dataset.html#esmvalcore.dataset.Dataset)\n",
    "  "
   ]
  },
  {
   "cell_type": "code",
   "execution_count": null,
   "id": "1717919d-1924-4343-a4b2-cd64056f3527",
   "metadata": {},
   "outputs": [],
   "source": [
    "from esmvalcore.dataset import Dataset\n",
    "\n",
    "dataset = Dataset(\n",
    "    short_name='tos',\n",
    "    mip='Omon',\n",
    "    project='CMIP6',\n",
    "    exp='historical',\n",
    "    dataset='ACCESS-ESM1-5',\n",
    "    ensemble='r4i1p1f1',\n",
    "    grid='gn',\n",
    ")\n",
    "dataset.augment_facets()\n",
    "print(dataset)"
   ]
  },
  {
   "cell_type": "markdown",
   "id": "dceb7923-9458-4f1a-847d-b8b93e65d794",
   "metadata": {},
   "source": [
    "## Local and ESGF search\n",
    "- ESMValTool can find datasets locally with root paths defined in your user config\n",
    "- ESMValTool can also search on ESGF nodes when it can access the internet\n",
    "- Use `'*'` for a wildcard search"
   ]
  },
  {
   "cell_type": "code",
   "execution_count": null,
   "id": "74dd9de1-e561-4ff1-8848-0955dd69e823",
   "metadata": {},
   "outputs": [],
   "source": [
    "from esmvalcore.config import CFG\n",
    "\n",
    "# CFG['search_esgf'] = 'always'\n",
    "dataset_search = Dataset(\n",
    "    short_name='tos',\n",
    "    mip='Omon',\n",
    "    project='CMIP6',\n",
    "    exp='historical',\n",
    "    dataset='ACCESS-ESM1-5',\n",
    "    ensemble='*',\n",
    "    grid='gn',\n",
    ")\n",
    "ensemble_datasets = list(dataset_search.from_files())\n",
    "\n",
    "print([ds['ensemble'] for ds in ensemble_datasets])"
   ]
  },
  {
   "cell_type": "code",
   "execution_count": null,
   "id": "eaf98ab1-ae2f-4312-ae42-ce4ce06a95e5",
   "metadata": {},
   "outputs": [],
   "source": [
    "# [dataset.files[0] for dataset in ensemble_datasets]"
   ]
  },
  {
   "cell_type": "markdown",
   "id": "d9cfc27c-aea5-408f-95ae-1132663a42e7",
   "metadata": {},
   "source": [
    "### Supplementary variables"
   ]
  },
  {
   "cell_type": "code",
   "execution_count": null,
   "id": "af62c8d0-072e-4cac-aa4b-58d85f3827dd",
   "metadata": {},
   "outputs": [],
   "source": [
    "# Discard augmented facets as they will be different for areacello\n",
    "dataset = Dataset(**dataset.minimal_facets)\n",
    "\n",
    "# Add areacello as supplementary dataset\n",
    "dataset.add_supplementary(short_name='areacello', mip='Ofx')\n",
    "\n",
    "# Autocomplete and inspect\n",
    "dataset.augment_facets()\n",
    "print(dataset.summary())"
   ]
  },
  {
   "cell_type": "markdown",
   "id": "7e59110e-2dc2-444e-9452-161f89d990c5",
   "metadata": {},
   "source": [
    "## Load data"
   ]
  },
  {
   "cell_type": "code",
   "execution_count": null,
   "id": "7c2c1eb9-e868-4bf5-bb32-28e3580fd225",
   "metadata": {
    "scrolled": true
   },
   "outputs": [],
   "source": [
    "# Before load\n",
    "print(dataset.files)\n",
    "\n",
    "cube = dataset.load()\n",
    "cube"
   ]
  },
  {
   "cell_type": "markdown",
   "id": "221bd835-534d-4ae0-bd2b-499337117b07",
   "metadata": {},
   "source": [
    "## Preprocessors\n",
    "- refer to [documentation](https://docs.esmvaltool.org/projects/esmvalcore/en/latest/recipe/overview.html#recipe-section-preprocessors) on what preprocessors are\n",
    "- refer to [API reference](https://docs.esmvaltool.org/projects/ESMValCore/en/latest/api/esmvalcore.preprocessor.html) on using specific preprocessors"
   ]
  },
  {
   "cell_type": "code",
   "execution_count": null,
   "id": "993cb51d-b199-4ada-9474-f67983b77811",
   "metadata": {
    "scrolled": true
   },
   "outputs": [],
   "source": [
    "from esmvalcore.preprocessor import annual_statistics, anomalies, area_statistics\n",
    "\n",
    "# Set the reference period for anomalies \n",
    "reference_period = {\n",
    "    \"start_year\": 1950, \"start_month\": 1, \"start_day\": 1,\n",
    "    \"end_year\": 1979, \"end_month\": 12, \"end_day\": 31,\n",
    "}\n",
    "\n",
    "cube = area_statistics(cube, operator='mean')\n",
    "cube = anomalies(cube, reference=reference_period, period='month')\n",
    "cube = annual_statistics(cube, operator='mean')\n",
    "cube.convert_units('degrees_C')\n",
    "cube"
   ]
  },
  {
   "cell_type": "markdown",
   "id": "0bd49261-2085-4f53-8d98-d01893c849f1",
   "metadata": {},
   "source": [
    "### Custom code\n",
    "- Use this space to add your own analysis code to this preprocessed data"
   ]
  },
  {
   "cell_type": "code",
   "execution_count": null,
   "id": "df476578-212f-4e77-9133-7d3a302ba2e5",
   "metadata": {
    "scrolled": true
   },
   "outputs": [],
   "source": [
    "import xarray as xr\n",
    "da = xr.DataArray.from_iris(cube)\n",
    "da.plot()\n",
    "print(da)"
   ]
  },
  {
   "cell_type": "markdown",
   "id": "765c51ba-4e2f-492d-a497-1787d854955c",
   "metadata": {},
   "source": [
    "## Apply workflow to multiple datasets\n",
    "- use `Dataset` object to make a list of datasets\n",
    "- apply the same preprocessors and diagnostic to each"
   ]
  },
  {
   "cell_type": "code",
   "execution_count": null,
   "id": "29950eb0-f659-4ba7-8f7a-dc1c9c55cc6e",
   "metadata": {
    "scrolled": true
   },
   "outputs": [],
   "source": [
    "import cf_units\n",
    "import matplotlib.pyplot as plt\n",
    "from iris import quickplot\n",
    "\n",
    "from esmvalcore.config import CFG\n",
    "from esmvalcore.dataset import Dataset\n",
    "from esmvalcore.preprocessor import annual_statistics, anomalies, area_statistics\n",
    "\n",
    "\n",
    "# Settings for automatic ESGF search\n",
    "CFG['search_esgf'] = 'when_missing'\n",
    "\n",
    "# Declare common dataset facets\n",
    "template = Dataset(\n",
    "    short_name='tos',\n",
    "    mip='Omon',\n",
    "    project='CMIP6',\n",
    "    exp= '*', # We'll fill this below\n",
    "    dataset='*',  # We'll fill this below\n",
    "    ensemble='r4i1p1f1',\n",
    "    grid='gn',\n",
    "    timerange='1850/2100'  #ACCESS-ESM1-5 extends to 2300\n",
    ")\n",
    "\n",
    "# Substitute data sources and experiments\n",
    "datasets = []\n",
    "for dataset_id in [\"CESM2\", \"MPI-ESM1-2-LR\", \"ACCESS-ESM1-5\"]:\n",
    "    for experiment_id in ['ssp126', 'ssp585']:\n",
    "        dataset = template.copy(dataset=dataset_id, exp=['historical', experiment_id])\n",
    "        dataset.add_supplementary(short_name='areacello', mip='Ofx', exp='historical')\n",
    "        dataset.augment_facets()\n",
    "        datasets.append(dataset)\n",
    "\n",
    "# Set the reference period for anomalies \n",
    "reference_period = {\n",
    "    \"start_year\": 1950, \"start_month\": 1, \"start_day\": 1,\n",
    "    \"end_year\": 1979, \"end_month\": 12, \"end_day\": 31,\n",
    "}\n",
    "\n",
    "# (Down)load, pre-process, and plot the cubes\n",
    "for dataset in datasets: \n",
    "    cube = dataset.load()\n",
    "    cube = area_statistics(cube, operator='mean')\n",
    "    cube = anomalies(cube, reference=reference_period, period='month')  # notice 'month'\n",
    "    cube = annual_statistics(cube, operator='mean')\n",
    "    cube.convert_units('degrees_C')\n",
    "\n",
    "    # Make sure all datasets use the same calendar for plotting\n",
    "    tcoord = cube.coord('time')\n",
    "    tcoord.units = cf_units.Unit(tcoord.units.origin, calendar='gregorian')\n",
    "\n",
    "    # Plot\n",
    "    quickplot.plot(cube, label=f\"{dataset['dataset']} - {dataset['exp']}\")\n",
    "\n",
    "# Show the plot\n",
    "plt.legend()\n",
    "# plt.savefig('./esmValTool/figure.png')\n",
    "plt.show()"
   ]
  },
  {
   "cell_type": "markdown",
   "id": "b2351844-1669-4bf0-83ff-073bc5417d94",
   "metadata": {},
   "source": [
    "## Helper to start making a recipe\n",
    "- can help start to write a recipe for the selected datasets\n",
    "- you will have to add in preprocessor and diagnostic sections\n",
    "- an example recipe of this kind of diagnostic is `examples/recipe_easy_ipcc.yml`you can find in your cloned ESMValTool repo or can be found in available recipes"
   ]
  },
  {
   "cell_type": "code",
   "execution_count": null,
   "id": "b5fa2a29-8a39-4a07-97a7-8dd1f3f1394c",
   "metadata": {
    "scrolled": true
   },
   "outputs": [],
   "source": [
    "from esmvalcore.dataset import datasets_to_recipe\n",
    "import yaml\n",
    "\n",
    "# these are the datasets from above\n",
    "for dataset in datasets:\n",
    "    dataset.facets['diagnostic'] = 'easy_ipcc'\n",
    "print(yaml.safe_dump(datasets_to_recipe(datasets)))"
   ]
  },
  {
   "cell_type": "code",
   "execution_count": null,
   "id": "45a9f9b1-5bfe-479b-a0ff-684146a02d83",
   "metadata": {
    "scrolled": true
   },
   "outputs": [],
   "source": [
    "## find more datasets\n",
    "\n",
    "template = Dataset(\n",
    "    short_name='tos',\n",
    "    mip='Omon',\n",
    "    activity='CMIP',\n",
    "    institute='*', # facet req. to search locally\n",
    "    project='CMIP6',\n",
    "    exp= ['historical', 'ssp585'], #,'ssp126'\n",
    "    dataset='*',  #\n",
    "    ensemble='*',\n",
    "    grid='gn',\n",
    "    timerange='1850/2100'  \n",
    ")\n",
    "\n",
    "all_datasets = list(template.from_files())\n",
    "for dataset in all_datasets:\n",
    "    dataset.facets['diagnostic'] = 'easy_ipcc'\n",
    "\n",
    "print(len(all_datasets))\n",
    "print(yaml.safe_dump(datasets_to_recipe(all_datasets)))"
   ]
  },
  {
   "cell_type": "code",
   "execution_count": null,
   "id": "19e3d0b0-3b8e-4dc9-8c3a-88ac617e7464",
   "metadata": {},
   "outputs": [],
   "source": []
  }
 ],
 "metadata": {
  "kernelspec": {
   "display_name": "Python 3 (ipykernel)",
   "language": "python",
   "name": "python3"
  },
  "language_info": {
   "codemirror_mode": {
    "name": "ipython",
    "version": 3
   },
   "file_extension": ".py",
   "mimetype": "text/x-python",
   "name": "python",
   "nbconvert_exporter": "python",
   "pygments_lexer": "ipython3",
   "version": "3.11.0"
  }
 },
 "nbformat": 4,
 "nbformat_minor": 5
}

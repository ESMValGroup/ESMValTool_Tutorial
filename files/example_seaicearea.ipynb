{
 "cells": [
  {
   "cell_type": "markdown",
   "id": "1b16af4f",
   "metadata": {},
   "source": [
    "Exercise: example sea ice area"
   ]
  },
  {
   "cell_type": "code",
   "execution_count": 3,
   "id": "6a914fa6-cb01-473b-8204-42743edbba72",
   "metadata": {},
   "outputs": [],
   "source": [
    "import iris\n",
    "import matplotlib.pyplot as plt\n",
    "from iris import quickplot\n",
    "\n",
    "from esmvalcore.dataset import Dataset\n",
    "from esmvalcore.preprocessor import (\n",
    "            mask_outside_range,\n",
    "            extract_region,\n",
    "            area_statistics,\n",
    "            annual_statistics\n",
    ")"
   ]
  },
  {
   "cell_type": "code",
   "execution_count": null,
   "id": "5de86b5f-547e-4f4b-80ee-4c358e2c19b5",
   "metadata": {},
   "outputs": [],
   "source": [
    "## define data\n",
    "\n",
    "obs = Dataset(\n",
    "    short_name='siconc', mip='SImon', project='OBS6', type='reanaly',\n",
    "    dataset='NSIDC-G02202-sh', tier='3', version='4', timerange='1979/2018',\n",
    ")\n",
    "\n",
    "# Add areacello as supplementary dataset\n",
    "obs.add_supplementary(short_name='areacello', mip='Ofx')\n",
    "\n",
    "model = Dataset(\n",
    "    short_name='siconc', mip='SImon', project='CMIP6', activity='CMIP',\n",
    "    dataset='ACCESS-ESM1-5', ensemble='r1i1p1f1', grid='gn', exp='historical',\n",
    "    timerange='1960/2010', institute = '*',\n",
    ")\n",
    "\n",
    "om_facets={'dataset' :'BCC-CSM2-MR', 'exp':'piControl', 'activity':'CMIP'}\n",
    "\n",
    "model.add_supplementary(short_name='areacello', mip='Ofx')\n",
    "\n",
    "model_om = model.copy(**om_facets) \n"
   ]
  },
  {
   "cell_type": "code",
   "execution_count": null,
   "id": "6c1624d6",
   "metadata": {},
   "outputs": [],
   "source": [
    "## check available files\n",
    "\n",
    "for ds in [model, model_om, obs]:\n",
    "    print(ds['dataset'],' : ' ,ds.files)\n",
    "    print(ds.supplementaries[0].files)"
   ]
  },
  {
   "cell_type": "code",
   "execution_count": null,
   "id": "cce37969",
   "metadata": {},
   "outputs": [],
   "source": [
    "# wildcard searches\n",
    "\n",
    "obs_other = Dataset(\n",
    "    short_name='siconc', mip='*', project='OBS', type='*',\n",
    "    dataset='*', tier='*', timerange='1979/2018'\n",
    ")\n",
    "obs_other.files"
   ]
  },
  {
   "cell_type": "code",
   "execution_count": null,
   "id": "36704edb-cda2-4cd2-a550-f550e1c79d08",
   "metadata": {
    "scrolled": true
   },
   "outputs": [],
   "source": [
    "## loop through data, plot\n",
    "\n",
    "# om - index 1 to offset years\n",
    "load_data = [model, model_om] #, obs] # obs not found\n",
    "\n",
    "# function to use for both min and max ['max','min'] \n",
    "\n",
    "def trends_seaicearea(min_max):\n",
    "    plt.clf()\n",
    "    for i,data in enumerate(load_data):\n",
    "        cube = data.load()\n",
    "        cube = mask_outside_range(cube, 15, 100)\n",
    "        cube = extract_region(cube,0,360,-90,0)\n",
    "        cube = area_statistics(cube, 'sum')\n",
    "        cube = annual_statistics(cube, min_max)\n",
    "    \n",
    "        iris.util.promote_aux_coord_to_dim_coord(cube, 'year')\n",
    "        cube.convert_units('km2')\n",
    "\n",
    "        label_name = data['dataset']\n",
    "        print(label_name, cube.shape)\n",
    "        quickplot.plot(cube, label=label_name)\n",
    "    \n",
    "    plt.title(f'Trends in Sea-Ice {min_max.title()}ima')\n",
    "    plt.ylabel('Sea-Ice Area (km2)')\n",
    "    plt.legend()"
   ]
  },
  {
   "cell_type": "code",
   "execution_count": null,
   "id": "b4a1a3fe-7a34-4cca-bf44-52d4e37c3758",
   "metadata": {
    "scrolled": true
   },
   "outputs": [],
   "source": [
    "trends_seaicearea('min')"
   ]
  },
  {
   "cell_type": "code",
   "execution_count": null,
   "id": "ea439f55-3e55-44f3-aab7-0403d728ea99",
   "metadata": {
    "scrolled": true
   },
   "outputs": [],
   "source": [
    "trends_seaicearea('max')"
   ]
  },
  {
   "cell_type": "code",
   "execution_count": null,
   "id": "c3fb790f-3970-418a-96e2-91541b364093",
   "metadata": {},
   "outputs": [],
   "source": []
  }
 ],
 "metadata": {
  "kernelspec": {
   "display_name": "Python 3 (ipykernel)",
   "language": "python",
   "name": "python3"
  },
  "language_info": {
   "codemirror_mode": {
    "name": "ipython",
    "version": 3
   },
   "file_extension": ".py",
   "mimetype": "text/x-python",
   "name": "python",
   "nbconvert_exporter": "python",
   "pygments_lexer": "ipython3",
   "version": "3.11.0"
  }
 },
 "nbformat": 4,
 "nbformat_minor": 5
}
